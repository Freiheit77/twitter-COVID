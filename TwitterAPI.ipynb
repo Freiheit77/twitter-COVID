{
 "cells": [
  {
   "cell_type": "markdown",
   "metadata": {},
   "source": [
    "# Twitter data preparation"
   ]
  },
  {
   "cell_type": "code",
   "execution_count": 76,
   "metadata": {
    "ExecuteTime": {
     "end_time": "2020-03-08T05:29:03.389439Z",
     "start_time": "2020-03-08T05:29:03.372043Z"
    }
   },
   "outputs": [],
   "source": [
    "import twitter\n",
    "import json\n",
    "import sys\n",
    "import pandas as pd\n",
    "from datetime import datetime"
   ]
  },
  {
   "cell_type": "code",
   "execution_count": 3,
   "metadata": {
    "ExecuteTime": {
     "end_time": "2020-03-08T03:59:10.961418Z",
     "start_time": "2020-03-08T03:59:10.947144Z"
    }
   },
   "outputs": [],
   "source": [
    "ACCESS_TOKEN = ''\n",
    "ACCESS_SECRET = ''\n",
    "CONSUMER_KEY = ''\n",
    "CONSUMER_SECRET = ''"
   ]
  },
  {
   "cell_type": "markdown",
   "metadata": {},
   "source": [
    "## Twitter API + python-twitter package"
   ]
  },
  {
   "cell_type": "code",
   "execution_count": 4,
   "metadata": {
    "ExecuteTime": {
     "end_time": "2020-03-08T04:03:01.895218Z",
     "start_time": "2020-03-08T04:03:01.883660Z"
    }
   },
   "outputs": [],
   "source": [
    "# set up\n",
    "api = twitter.Api(consumer_key=CONSUMER_KEY,\n",
    "                  consumer_secret=CONSUMER_SECRET,\n",
    "                  access_token_key=ACCESS_TOKEN,\n",
    "                  access_token_secret=ACCESS_SECRET)"
   ]
  },
  {
   "cell_type": "markdown",
   "metadata": {},
   "source": [
    "### Feb 27th - Mar 8th tweets "
   ]
  },
  {
   "cell_type": "code",
   "execution_count": 125,
   "metadata": {
    "ExecuteTime": {
     "end_time": "2020-03-08T05:59:04.818249Z",
     "start_time": "2020-03-08T05:59:00.562868Z"
    }
   },
   "outputs": [
    {
     "data": {
      "text/plain": [
       "1100"
      ]
     },
     "execution_count": 125,
     "metadata": {},
     "output_type": "execute_result"
    }
   ],
   "source": [
    "tweets_profile = []\n",
    "dates = pd.date_range(\"2020-02-27\", \"2020-03-09\").strftime(\"%Y-%m-%d\")\n",
    "for day in dates:\n",
    "    results = api.GetSearch(\n",
    "        raw_query=f\"q=COVID-19&lang=en&result_type=recent&until={day}&count=100\")\n",
    "    tweets_profile += results\n",
    "\n",
    "len(tweets_profile)"
   ]
  },
  {
   "cell_type": "code",
   "execution_count": 126,
   "metadata": {
    "ExecuteTime": {
     "end_time": "2020-03-08T05:59:13.312660Z",
     "start_time": "2020-03-08T05:59:13.296263Z"
    }
   },
   "outputs": [],
   "source": [
    "user_id = []\n",
    "user_name = []\n",
    "tweet_time = []\n",
    "texts = []\n",
    "for tweet in tweets_profile:\n",
    "    if tweet.retweeted_status==None:\n",
    "        texts.append(tweet.text)#.encode('utf-8'))\n",
    "    else: \n",
    "        texts.append(tweet.retweeted_status.text)#encode('utf-8')\n",
    "    \n",
    "    user_id.append(tweet.id)\n",
    "    user_name.append(tweet.user.screen_name)\n",
    "    tweet_time.append(tweet.created_at)"
   ]
  },
  {
   "cell_type": "code",
   "execution_count": 127,
   "metadata": {
    "ExecuteTime": {
     "end_time": "2020-03-08T05:59:15.952335Z",
     "start_time": "2020-03-08T05:59:15.920613Z"
    }
   },
   "outputs": [
    {
     "data": {
      "text/html": [
       "<div>\n",
       "<style scoped>\n",
       "    .dataframe tbody tr th:only-of-type {\n",
       "        vertical-align: middle;\n",
       "    }\n",
       "\n",
       "    .dataframe tbody tr th {\n",
       "        vertical-align: top;\n",
       "    }\n",
       "\n",
       "    .dataframe thead th {\n",
       "        text-align: right;\n",
       "    }\n",
       "</style>\n",
       "<table border=\"1\" class=\"dataframe\">\n",
       "  <thead>\n",
       "    <tr style=\"text-align: right;\">\n",
       "      <th></th>\n",
       "      <th>Id</th>\n",
       "      <th>userName</th>\n",
       "      <th>tweetTime</th>\n",
       "      <th>text</th>\n",
       "    </tr>\n",
       "  </thead>\n",
       "  <tbody>\n",
       "    <tr>\n",
       "      <td>0</td>\n",
       "      <td>1233180008212049920</td>\n",
       "      <td>SpeakUp_MHA</td>\n",
       "      <td>Thu Feb 27 23:59:59 +0000 2020</td>\n",
       "      <td>Wow - great way to look after small businesses...</td>\n",
       "    </tr>\n",
       "    <tr>\n",
       "      <td>1</td>\n",
       "      <td>1233180007767298048</td>\n",
       "      <td>AnaBamazing</td>\n",
       "      <td>Thu Feb 27 23:59:59 +0000 2020</td>\n",
       "      <td>Friends, there's still no reason to panic abou...</td>\n",
       "    </tr>\n",
       "    <tr>\n",
       "      <td>2</td>\n",
       "      <td>1233180007171751942</td>\n",
       "      <td>Ph0nograf</td>\n",
       "      <td>Thu Feb 27 23:59:59 +0000 2020</td>\n",
       "      <td>1) Interesting day. Last night @realDonaldTrum...</td>\n",
       "    </tr>\n",
       "    <tr>\n",
       "      <td>3</td>\n",
       "      <td>1233180005733105665</td>\n",
       "      <td>lunars_art</td>\n",
       "      <td>Thu Feb 27 23:59:59 +0000 2020</td>\n",
       "      <td>Friends, there's still no reason to panic abou...</td>\n",
       "    </tr>\n",
       "    <tr>\n",
       "      <td>4</td>\n",
       "      <td>1233180000872026114</td>\n",
       "      <td>Fmohnigeria</td>\n",
       "      <td>Thu Feb 27 23:59:58 +0000 2020</td>\n",
       "      <td>The Federal Ministry of Health has confirmed a...</td>\n",
       "    </tr>\n",
       "  </tbody>\n",
       "</table>\n",
       "</div>"
      ],
      "text/plain": [
       "                    Id     userName                       tweetTime  \\\n",
       "0  1233180008212049920  SpeakUp_MHA  Thu Feb 27 23:59:59 +0000 2020   \n",
       "1  1233180007767298048  AnaBamazing  Thu Feb 27 23:59:59 +0000 2020   \n",
       "2  1233180007171751942    Ph0nograf  Thu Feb 27 23:59:59 +0000 2020   \n",
       "3  1233180005733105665   lunars_art  Thu Feb 27 23:59:59 +0000 2020   \n",
       "4  1233180000872026114  Fmohnigeria  Thu Feb 27 23:59:58 +0000 2020   \n",
       "\n",
       "                                                text  \n",
       "0  Wow - great way to look after small businesses...  \n",
       "1  Friends, there's still no reason to panic abou...  \n",
       "2  1) Interesting day. Last night @realDonaldTrum...  \n",
       "3  Friends, there's still no reason to panic abou...  \n",
       "4  The Federal Ministry of Health has confirmed a...  "
      ]
     },
     "execution_count": 127,
     "metadata": {},
     "output_type": "execute_result"
    }
   ],
   "source": [
    "df_twitter = pd.DataFrame(data = list(zip(user_id, user_name, tweet_time, texts)), \n",
    "                          columns = [\"Id\", \"userName\", \"tweetTime\", \"text\"])\n",
    "df_twitter.head(5)"
   ]
  },
  {
   "cell_type": "code",
   "execution_count": 128,
   "metadata": {
    "ExecuteTime": {
     "end_time": "2020-03-08T05:59:19.107417Z",
     "start_time": "2020-03-08T05:59:19.099116Z"
    }
   },
   "outputs": [
    {
     "data": {
      "text/plain": [
       "(1100, 4)"
      ]
     },
     "execution_count": 128,
     "metadata": {},
     "output_type": "execute_result"
    }
   ],
   "source": [
    "df_twitter.shape"
   ]
  },
  {
   "cell_type": "code",
   "execution_count": 129,
   "metadata": {
    "ExecuteTime": {
     "end_time": "2020-03-08T05:59:20.805307Z",
     "start_time": "2020-03-08T05:59:20.575028Z"
    }
   },
   "outputs": [
    {
     "data": {
      "text/html": [
       "<div>\n",
       "<style scoped>\n",
       "    .dataframe tbody tr th:only-of-type {\n",
       "        vertical-align: middle;\n",
       "    }\n",
       "\n",
       "    .dataframe tbody tr th {\n",
       "        vertical-align: top;\n",
       "    }\n",
       "\n",
       "    .dataframe thead th {\n",
       "        text-align: right;\n",
       "    }\n",
       "</style>\n",
       "<table border=\"1\" class=\"dataframe\">\n",
       "  <thead>\n",
       "    <tr style=\"text-align: right;\">\n",
       "      <th></th>\n",
       "      <th>Id</th>\n",
       "      <th>userName</th>\n",
       "      <th>tweetTime</th>\n",
       "      <th>text</th>\n",
       "      <th>weekday</th>\n",
       "      <th>Date</th>\n",
       "      <th>Time</th>\n",
       "    </tr>\n",
       "  </thead>\n",
       "  <tbody>\n",
       "    <tr>\n",
       "      <td>0</td>\n",
       "      <td>1233180008212049920</td>\n",
       "      <td>SpeakUp_MHA</td>\n",
       "      <td>2020-02-27 23:59:59+00:00</td>\n",
       "      <td>Wow - great way to look after small businesses...</td>\n",
       "      <td>Thu</td>\n",
       "      <td>2020-02-27</td>\n",
       "      <td>23:59:59</td>\n",
       "    </tr>\n",
       "    <tr>\n",
       "      <td>1</td>\n",
       "      <td>1233180007767298048</td>\n",
       "      <td>AnaBamazing</td>\n",
       "      <td>2020-02-27 23:59:59+00:00</td>\n",
       "      <td>Friends, there's still no reason to panic abou...</td>\n",
       "      <td>Thu</td>\n",
       "      <td>2020-02-27</td>\n",
       "      <td>23:59:59</td>\n",
       "    </tr>\n",
       "    <tr>\n",
       "      <td>2</td>\n",
       "      <td>1233180007171751942</td>\n",
       "      <td>Ph0nograf</td>\n",
       "      <td>2020-02-27 23:59:59+00:00</td>\n",
       "      <td>1) Interesting day. Last night @realDonaldTrum...</td>\n",
       "      <td>Thu</td>\n",
       "      <td>2020-02-27</td>\n",
       "      <td>23:59:59</td>\n",
       "    </tr>\n",
       "    <tr>\n",
       "      <td>3</td>\n",
       "      <td>1233180005733105665</td>\n",
       "      <td>lunars_art</td>\n",
       "      <td>2020-02-27 23:59:59+00:00</td>\n",
       "      <td>Friends, there's still no reason to panic abou...</td>\n",
       "      <td>Thu</td>\n",
       "      <td>2020-02-27</td>\n",
       "      <td>23:59:59</td>\n",
       "    </tr>\n",
       "    <tr>\n",
       "      <td>4</td>\n",
       "      <td>1233180000872026114</td>\n",
       "      <td>Fmohnigeria</td>\n",
       "      <td>2020-02-27 23:59:58+00:00</td>\n",
       "      <td>The Federal Ministry of Health has confirmed a...</td>\n",
       "      <td>Thu</td>\n",
       "      <td>2020-02-27</td>\n",
       "      <td>23:59:58</td>\n",
       "    </tr>\n",
       "  </tbody>\n",
       "</table>\n",
       "</div>"
      ],
      "text/plain": [
       "                    Id     userName                 tweetTime  \\\n",
       "0  1233180008212049920  SpeakUp_MHA 2020-02-27 23:59:59+00:00   \n",
       "1  1233180007767298048  AnaBamazing 2020-02-27 23:59:59+00:00   \n",
       "2  1233180007171751942    Ph0nograf 2020-02-27 23:59:59+00:00   \n",
       "3  1233180005733105665   lunars_art 2020-02-27 23:59:59+00:00   \n",
       "4  1233180000872026114  Fmohnigeria 2020-02-27 23:59:58+00:00   \n",
       "\n",
       "                                                text weekday        Date  \\\n",
       "0  Wow - great way to look after small businesses...     Thu  2020-02-27   \n",
       "1  Friends, there's still no reason to panic abou...     Thu  2020-02-27   \n",
       "2  1) Interesting day. Last night @realDonaldTrum...     Thu  2020-02-27   \n",
       "3  Friends, there's still no reason to panic abou...     Thu  2020-02-27   \n",
       "4  The Federal Ministry of Health has confirmed a...     Thu  2020-02-27   \n",
       "\n",
       "       Time  \n",
       "0  23:59:59  \n",
       "1  23:59:59  \n",
       "2  23:59:59  \n",
       "3  23:59:59  \n",
       "4  23:59:58  "
      ]
     },
     "execution_count": 129,
     "metadata": {},
     "output_type": "execute_result"
    }
   ],
   "source": [
    "# extract weekday, date, and time from previous dataset\n",
    "df_twitter[\"weekday\"] = df_twitter[\"tweetTime\"].apply(lambda x: x[0:3])\n",
    "df_twitter[\"tweetTime\"] = df_twitter[\"tweetTime\"]\\\n",
    "                        .apply(lambda x: pd.to_datetime(datetime.strptime(x, '%a %b %d %H:%M:%S %z %Y')))\n",
    "\n",
    "df_twitter[\"Date\"] = df_twitter[\"tweetTime\"].dt.date\n",
    "\n",
    "df_twitter['Time'] = df_twitter[\"tweetTime\"].dt.time\n",
    "\n",
    "df_twitter.head(5)"
   ]
  },
  {
   "cell_type": "code",
   "execution_count": 130,
   "metadata": {
    "ExecuteTime": {
     "end_time": "2020-03-08T05:59:32.930813Z",
     "start_time": "2020-03-08T05:59:32.895173Z"
    }
   },
   "outputs": [],
   "source": [
    "df_twitter.to_csv('df_twitter_feb27tomar8.csv',index=False)"
   ]
  },
  {
   "cell_type": "markdown",
   "metadata": {},
   "source": [
    "## Twitter API + tweepy package"
   ]
  },
  {
   "cell_type": "code",
   "execution_count": 134,
   "metadata": {
    "ExecuteTime": {
     "end_time": "2020-03-08T06:04:58.157823Z",
     "start_time": "2020-03-08T06:04:58.116146Z"
    }
   },
   "outputs": [],
   "source": [
    "import tweepy"
   ]
  },
  {
   "cell_type": "code",
   "execution_count": 211,
   "metadata": {
    "ExecuteTime": {
     "end_time": "2020-03-08T19:45:33.738620Z",
     "start_time": "2020-03-08T19:11:46.648322Z"
    }
   },
   "outputs": [
    {
     "data": {
      "text/plain": [
       "10000"
      ]
     },
     "execution_count": 211,
     "metadata": {},
     "output_type": "execute_result"
    }
   ],
   "source": [
    "# auth = tweepy.OAuthHandler(CONSUMER_KEY, CONSUMER_SECRET)\n",
    "# auth.set_access_token(ACCESS_TOKEN, ACCESS_SECRET)\n",
    "# api = tweepy.API(auth, wait_on_rate_limit=True)\n",
    "\n",
    "# searched_tweets = [status for status in \n",
    "#                     tweepy.Cursor(api.search, \n",
    "#                         q=\"#COVID-19\",\n",
    "#                         since=\"2020-03-06\",\n",
    "#                         until=\"2020-03-07\",lang='en').items(10000)]\n",
    "# len(searched_tweets)"
   ]
  },
  {
   "cell_type": "code",
   "execution_count": 216,
   "metadata": {
    "ExecuteTime": {
     "end_time": "2020-03-10T04:37:53.768883Z",
     "start_time": "2020-03-10T03:51:09.436076Z"
    }
   },
   "outputs": [
    {
     "data": {
      "text/plain": [
       "10000"
      ]
     },
     "execution_count": 216,
     "metadata": {},
     "output_type": "execute_result"
    }
   ],
   "source": [
    "auth = tweepy.OAuthHandler(CONSUMER_KEY, CONSUMER_SECRET)\n",
    "auth.set_access_token(ACCESS_TOKEN, ACCESS_SECRET)\n",
    "api = tweepy.API(auth, wait_on_rate_limit=True)\n",
    "\n",
    "searched_tweets = [status for status in \n",
    "                    tweepy.Cursor(api.search, \n",
    "                        q=\"#COVID-19\",\n",
    "                        since=\"2020-03-09\",\n",
    "                        until=\"2020-03-10\",lang='en').items(10000)]\n",
    "len(searched_tweets)"
   ]
  },
  {
   "cell_type": "code",
   "execution_count": 217,
   "metadata": {
    "ExecuteTime": {
     "end_time": "2020-03-10T06:23:05.456970Z",
     "start_time": "2020-03-10T06:23:03.577403Z"
    },
    "scrolled": true
   },
   "outputs": [],
   "source": [
    "user_id = []\n",
    "user_name = []\n",
    "tweet_time = []\n",
    "texts = []\n",
    "likes = []\n",
    "retweets = []\n",
    "location = []\n",
    "\n",
    "for tweet in searched_tweets:\n",
    "    try:\n",
    "        if tweet.retweeted_status==None:\n",
    "            texts.append(tweet.text)\n",
    "        else: \n",
    "            texts.append(tweet.retweeted_status.text)\n",
    "    except AttributeError:\n",
    "        texts.append(tweet.text)\n",
    "    \n",
    "    user_id.append(tweet.id)\n",
    "    user_name.append(tweet.user.screen_name)\n",
    "    tweet_time.append(tweet.created_at)\n",
    "    \n",
    "    likes.append(tweet.user.favourites_count)\n",
    "    retweets.append(tweet.retweet_count)\n",
    "    location.append(tweet.user.location)    \n"
   ]
  },
  {
   "cell_type": "code",
   "execution_count": 218,
   "metadata": {
    "ExecuteTime": {
     "end_time": "2020-03-10T06:23:57.081986Z",
     "start_time": "2020-03-10T06:23:56.636307Z"
    }
   },
   "outputs": [
    {
     "data": {
      "text/html": [
       "<div>\n",
       "<style scoped>\n",
       "    .dataframe tbody tr th:only-of-type {\n",
       "        vertical-align: middle;\n",
       "    }\n",
       "\n",
       "    .dataframe tbody tr th {\n",
       "        vertical-align: top;\n",
       "    }\n",
       "\n",
       "    .dataframe thead th {\n",
       "        text-align: right;\n",
       "    }\n",
       "</style>\n",
       "<table border=\"1\" class=\"dataframe\">\n",
       "  <thead>\n",
       "    <tr style=\"text-align: right;\">\n",
       "      <th></th>\n",
       "      <th>Id</th>\n",
       "      <th>userName</th>\n",
       "      <th>tweetTime</th>\n",
       "      <th>text</th>\n",
       "      <th>likes</th>\n",
       "      <th>retweets</th>\n",
       "      <th>usrLocation</th>\n",
       "    </tr>\n",
       "  </thead>\n",
       "  <tbody>\n",
       "    <tr>\n",
       "      <td>0</td>\n",
       "      <td>1237166273454198784</td>\n",
       "      <td>SummitSheriffCO</td>\n",
       "      <td>2020-03-09 23:59:59</td>\n",
       "      <td>The number one question I get is what Colorada...</td>\n",
       "      <td>1754</td>\n",
       "      <td>43</td>\n",
       "      <td>Summit County, Colorado</td>\n",
       "    </tr>\n",
       "    <tr>\n",
       "      <td>1</td>\n",
       "      <td>1237166272112017408</td>\n",
       "      <td>GGreediguts</td>\n",
       "      <td>2020-03-09 23:59:59</td>\n",
       "      <td>Publishing: We're hiring!\\nMe: Great! Is it re...</td>\n",
       "      <td>1810</td>\n",
       "      <td>2016</td>\n",
       "      <td>Always seem to be in Flyover Country</td>\n",
       "    </tr>\n",
       "    <tr>\n",
       "      <td>2</td>\n",
       "      <td>1237166271428464642</td>\n",
       "      <td>Deplorable4Trum</td>\n",
       "      <td>2020-03-09 23:59:59</td>\n",
       "      <td>I don't recall H1N1 in 2009 being hyped at any...</td>\n",
       "      <td>52681</td>\n",
       "      <td>638</td>\n",
       "      <td></td>\n",
       "    </tr>\n",
       "    <tr>\n",
       "      <td>3</td>\n",
       "      <td>1237166269352288259</td>\n",
       "      <td>minbyunh</td>\n",
       "      <td>2020-03-09 23:59:58</td>\n",
       "      <td>COVID-19 Outbreak Donations\\n\\nChanyeol- 50mil...</td>\n",
       "      <td>242</td>\n",
       "      <td>3336</td>\n",
       "      <td>nowhere</td>\n",
       "    </tr>\n",
       "    <tr>\n",
       "      <td>4</td>\n",
       "      <td>1237166268978999296</td>\n",
       "      <td>ClaudeUbanan</td>\n",
       "      <td>2020-03-09 23:59:58</td>\n",
       "      <td>After hearing and seeing the President last ni...</td>\n",
       "      <td>8546</td>\n",
       "      <td>31</td>\n",
       "      <td></td>\n",
       "    </tr>\n",
       "  </tbody>\n",
       "</table>\n",
       "</div>"
      ],
      "text/plain": [
       "                    Id         userName           tweetTime  \\\n",
       "0  1237166273454198784  SummitSheriffCO 2020-03-09 23:59:59   \n",
       "1  1237166272112017408      GGreediguts 2020-03-09 23:59:59   \n",
       "2  1237166271428464642  Deplorable4Trum 2020-03-09 23:59:59   \n",
       "3  1237166269352288259         minbyunh 2020-03-09 23:59:58   \n",
       "4  1237166268978999296     ClaudeUbanan 2020-03-09 23:59:58   \n",
       "\n",
       "                                                text  likes  retweets  \\\n",
       "0  The number one question I get is what Colorada...   1754        43   \n",
       "1  Publishing: We're hiring!\\nMe: Great! Is it re...   1810      2016   \n",
       "2  I don't recall H1N1 in 2009 being hyped at any...  52681       638   \n",
       "3  COVID-19 Outbreak Donations\\n\\nChanyeol- 50mil...    242      3336   \n",
       "4  After hearing and seeing the President last ni...   8546        31   \n",
       "\n",
       "                            usrLocation  \n",
       "0               Summit County, Colorado  \n",
       "1  Always seem to be in Flyover Country  \n",
       "2                                        \n",
       "3                               nowhere  \n",
       "4                                        "
      ]
     },
     "execution_count": 218,
     "metadata": {},
     "output_type": "execute_result"
    }
   ],
   "source": [
    "df_twitter = pd.DataFrame(data = list(zip(user_id, user_name, tweet_time, texts, likes,\n",
    "                                         retweets, location)), \n",
    "                          columns = [\"Id\", \"userName\", \"tweetTime\", \"text\", \"likes\",\n",
    "                                    \"retweets\", \"usrLocation\"])\n",
    "df_twitter.head(5)"
   ]
  },
  {
   "cell_type": "code",
   "execution_count": 195,
   "metadata": {
    "ExecuteTime": {
     "end_time": "2020-03-08T08:03:09.651859Z",
     "start_time": "2020-03-08T08:03:09.638474Z"
    }
   },
   "outputs": [
    {
     "data": {
      "text/plain": [
       "(10000, 7)"
      ]
     },
     "execution_count": 195,
     "metadata": {},
     "output_type": "execute_result"
    }
   ],
   "source": [
    "df_twitter.shape"
   ]
  },
  {
   "cell_type": "code",
   "execution_count": 219,
   "metadata": {
    "ExecuteTime": {
     "end_time": "2020-03-10T06:24:49.109665Z",
     "start_time": "2020-03-10T06:24:48.992515Z"
    }
   },
   "outputs": [
    {
     "data": {
      "text/html": [
       "<div>\n",
       "<style scoped>\n",
       "    .dataframe tbody tr th:only-of-type {\n",
       "        vertical-align: middle;\n",
       "    }\n",
       "\n",
       "    .dataframe tbody tr th {\n",
       "        vertical-align: top;\n",
       "    }\n",
       "\n",
       "    .dataframe thead th {\n",
       "        text-align: right;\n",
       "    }\n",
       "</style>\n",
       "<table border=\"1\" class=\"dataframe\">\n",
       "  <thead>\n",
       "    <tr style=\"text-align: right;\">\n",
       "      <th></th>\n",
       "      <th>Id</th>\n",
       "      <th>userName</th>\n",
       "      <th>tweetTime</th>\n",
       "      <th>text</th>\n",
       "      <th>likes</th>\n",
       "      <th>retweets</th>\n",
       "      <th>usrLocation</th>\n",
       "      <th>Date</th>\n",
       "      <th>Time</th>\n",
       "    </tr>\n",
       "  </thead>\n",
       "  <tbody>\n",
       "    <tr>\n",
       "      <td>0</td>\n",
       "      <td>1237166273454198784</td>\n",
       "      <td>SummitSheriffCO</td>\n",
       "      <td>2020-03-09 23:59:59</td>\n",
       "      <td>The number one question I get is what Colorada...</td>\n",
       "      <td>1754</td>\n",
       "      <td>43</td>\n",
       "      <td>Summit County, Colorado</td>\n",
       "      <td>2020-03-09</td>\n",
       "      <td>23:59:59</td>\n",
       "    </tr>\n",
       "    <tr>\n",
       "      <td>1</td>\n",
       "      <td>1237166272112017408</td>\n",
       "      <td>GGreediguts</td>\n",
       "      <td>2020-03-09 23:59:59</td>\n",
       "      <td>Publishing: We're hiring!\\nMe: Great! Is it re...</td>\n",
       "      <td>1810</td>\n",
       "      <td>2016</td>\n",
       "      <td>Always seem to be in Flyover Country</td>\n",
       "      <td>2020-03-09</td>\n",
       "      <td>23:59:59</td>\n",
       "    </tr>\n",
       "    <tr>\n",
       "      <td>2</td>\n",
       "      <td>1237166271428464642</td>\n",
       "      <td>Deplorable4Trum</td>\n",
       "      <td>2020-03-09 23:59:59</td>\n",
       "      <td>I don't recall H1N1 in 2009 being hyped at any...</td>\n",
       "      <td>52681</td>\n",
       "      <td>638</td>\n",
       "      <td></td>\n",
       "      <td>2020-03-09</td>\n",
       "      <td>23:59:59</td>\n",
       "    </tr>\n",
       "    <tr>\n",
       "      <td>3</td>\n",
       "      <td>1237166269352288259</td>\n",
       "      <td>minbyunh</td>\n",
       "      <td>2020-03-09 23:59:58</td>\n",
       "      <td>COVID-19 Outbreak Donations\\n\\nChanyeol- 50mil...</td>\n",
       "      <td>242</td>\n",
       "      <td>3336</td>\n",
       "      <td>nowhere</td>\n",
       "      <td>2020-03-09</td>\n",
       "      <td>23:59:58</td>\n",
       "    </tr>\n",
       "    <tr>\n",
       "      <td>4</td>\n",
       "      <td>1237166268978999296</td>\n",
       "      <td>ClaudeUbanan</td>\n",
       "      <td>2020-03-09 23:59:58</td>\n",
       "      <td>After hearing and seeing the President last ni...</td>\n",
       "      <td>8546</td>\n",
       "      <td>31</td>\n",
       "      <td></td>\n",
       "      <td>2020-03-09</td>\n",
       "      <td>23:59:58</td>\n",
       "    </tr>\n",
       "  </tbody>\n",
       "</table>\n",
       "</div>"
      ],
      "text/plain": [
       "                    Id         userName           tweetTime  \\\n",
       "0  1237166273454198784  SummitSheriffCO 2020-03-09 23:59:59   \n",
       "1  1237166272112017408      GGreediguts 2020-03-09 23:59:59   \n",
       "2  1237166271428464642  Deplorable4Trum 2020-03-09 23:59:59   \n",
       "3  1237166269352288259         minbyunh 2020-03-09 23:59:58   \n",
       "4  1237166268978999296     ClaudeUbanan 2020-03-09 23:59:58   \n",
       "\n",
       "                                                text  likes  retweets  \\\n",
       "0  The number one question I get is what Colorada...   1754        43   \n",
       "1  Publishing: We're hiring!\\nMe: Great! Is it re...   1810      2016   \n",
       "2  I don't recall H1N1 in 2009 being hyped at any...  52681       638   \n",
       "3  COVID-19 Outbreak Donations\\n\\nChanyeol- 50mil...    242      3336   \n",
       "4  After hearing and seeing the President last ni...   8546        31   \n",
       "\n",
       "                            usrLocation        Date      Time  \n",
       "0               Summit County, Colorado  2020-03-09  23:59:59  \n",
       "1  Always seem to be in Flyover Country  2020-03-09  23:59:59  \n",
       "2                                        2020-03-09  23:59:59  \n",
       "3                               nowhere  2020-03-09  23:59:58  \n",
       "4                                        2020-03-09  23:59:58  "
      ]
     },
     "execution_count": 219,
     "metadata": {},
     "output_type": "execute_result"
    }
   ],
   "source": [
    "df_twitter[\"Date\"] = df_twitter[\"tweetTime\"].dt.date\n",
    "df_twitter['Time'] = df_twitter[\"tweetTime\"].dt.time\n",
    "\n",
    "df_twitter.head(5)"
   ]
  },
  {
   "cell_type": "code",
   "execution_count": 220,
   "metadata": {
    "ExecuteTime": {
     "end_time": "2020-03-10T06:26:00.384344Z",
     "start_time": "2020-03-10T06:26:00.066522Z"
    }
   },
   "outputs": [],
   "source": [
    "df_twitter.to_csv('df_twitter.csv',index=False)"
   ]
  },
  {
   "cell_type": "code",
   "execution_count": null,
   "metadata": {},
   "outputs": [],
   "source": []
  }
 ],
 "metadata": {
  "kernelspec": {
   "display_name": "Python 3",
   "language": "python",
   "name": "python3"
  },
  "language_info": {
   "codemirror_mode": {
    "name": "ipython",
    "version": 3
   },
   "file_extension": ".py",
   "mimetype": "text/x-python",
   "name": "python",
   "nbconvert_exporter": "python",
   "pygments_lexer": "ipython3",
   "version": "3.7.4"
  },
  "toc": {
   "base_numbering": 1,
   "nav_menu": {},
   "number_sections": true,
   "sideBar": true,
   "skip_h1_title": false,
   "title_cell": "Table of Contents",
   "title_sidebar": "Contents",
   "toc_cell": false,
   "toc_position": {},
   "toc_section_display": true,
   "toc_window_display": false
  },
  "varInspector": {
   "cols": {
    "lenName": 16,
    "lenType": 16,
    "lenVar": 40
   },
   "kernels_config": {
    "python": {
     "delete_cmd_postfix": "",
     "delete_cmd_prefix": "del ",
     "library": "var_list.py",
     "varRefreshCmd": "print(var_dic_list())"
    },
    "r": {
     "delete_cmd_postfix": ") ",
     "delete_cmd_prefix": "rm(",
     "library": "var_list.r",
     "varRefreshCmd": "cat(var_dic_list()) "
    }
   },
   "types_to_exclude": [
    "module",
    "function",
    "builtin_function_or_method",
    "instance",
    "_Feature"
   ],
   "window_display": false
  }
 },
 "nbformat": 4,
 "nbformat_minor": 2
}
